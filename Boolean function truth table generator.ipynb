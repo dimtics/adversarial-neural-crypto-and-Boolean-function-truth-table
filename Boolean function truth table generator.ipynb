{
 "cells": [
  {
   "cell_type": "code",
   "execution_count": null,
   "metadata": {
    "collapsed": true
   },
   "outputs": [],
   "source": [
    "# truth table function\n",
    "import numpy as np\n",
    "import itertools\n",
    "import sys\n",
    "np.set_printoptions(threshold=np.nan)\n",
    "\n",
    "def truthtableBF(n):\n",
    "    '''To generate truth table for Boolean functions of the form L(x) = a0 + a1x1 +... +anxn'''\n",
    "    \n",
    "    try:\n",
    "        \n",
    "        if n >= 1:\n",
    "            arep = n + 1\n",
    "            xrep = n\n",
    "            \n",
    "            \n",
    "            # generate all possible values of a and store it in an array a\n",
    "            a = (np.array(list(itertools.product([0,1], repeat=arep)))).astype(int)\n",
    "\n",
    "            # generate all possible values of x and store it in an array x\n",
    "            x = (np.array(list(itertools.product([0,1], repeat=xrep)))).astype(int)\n",
    "\n",
    "\n",
    "            d = []\n",
    "            my = []\n",
    "\n",
    "            # iterate through each array of a and x\n",
    "            for k in a:\n",
    "                j = 0\n",
    "                for m in x:\n",
    "                    res = k[1:arep] * m\n",
    "                    res = np.append(k[0], res)\n",
    "        \n",
    "                    # XOR logic\n",
    "                    ren = res[0]\n",
    "                    for i in range(len(res)-1):\n",
    "                        ren = ren ^ res[i+1]\n",
    "                    my.append(ren) # append xor results into list my.\n",
    "                     \n",
    "                j +=1\n",
    "                s = np.array(my)\n",
    "                d.append(s)\n",
    "                my.clear()\n",
    "        \n",
    "            return (np.array(d)).T\n",
    "            \n",
    "        else:\n",
    "            print('Sorry! The n value provided is invalid.')\n",
    "            sys.exit\n",
    "            \n",
    "    except Exception as err:\n",
    "        print(err)"
   ]
  }
 ],
 "metadata": {
  "kernelspec": {
   "display_name": "Python 3",
   "language": "python",
   "name": "python3"
  },
  "language_info": {
   "codemirror_mode": {
    "name": "ipython",
    "version": 3
   },
   "file_extension": ".py",
   "mimetype": "text/x-python",
   "name": "python",
   "nbconvert_exporter": "python",
   "pygments_lexer": "ipython3",
   "version": "3.5.2"
  }
 },
 "nbformat": 4,
 "nbformat_minor": 2
}
